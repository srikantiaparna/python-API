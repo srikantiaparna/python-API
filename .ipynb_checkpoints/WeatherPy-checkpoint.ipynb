{
 "cells": [
  {
   "cell_type": "markdown",
   "metadata": {},
   "source": [
    "# WeatherPy\n",
    "----\n",
    "\n",
    "### Analysis\n",
    "* As expected, the weather becomes significantly warmer as one approaches the equator (0 Deg. Latitude). More interestingly, however, is the fact that the southern hemisphere tends to be warmer this time of year than the northern hemisphere. This may be due to the tilt of the earth.\n",
    "* There is no strong relationship between latitude and cloudiness. However, it is interesting to see that a strong band of cities sits at 0, 80, and 100% cloudiness.\n",
    "* There is no strong relationship between latitude and wind speed. However, in northern hemispheres there is a flurry of cities with over 20 mph of wind.\n",
    "\n",
    "---\n",
    "\n",
    "#### Note\n",
    "* Instructions have been included for each segment. You do not have to follow them exactly, but they are included to help you think through the steps."
   ]
  },
  {
   "cell_type": "code",
   "execution_count": null,
   "metadata": {},
   "outputs": [],
   "source": [
    "################################################## Observable Trends ######################################################\n",
    "#1.The Lower latitudes have higher temperatures and the higher latitudes have lower temperature. Temperature increases \n",
    "### as we approach the equator due to the Earth's tilt in the axis known as obliquity.\n",
    "\n",
    "#2.Plots Cloudiness vs. latitude & humidity vs. latitude do not show a reliable correlation. The visualizations show \n",
    "## a great variety of values at similar latitudes.\n",
    "\n",
    "#3.The highest wind speeds appear slightly increasing as we move farther away from the equator. "
   ]
  },
  {
   "cell_type": "code",
   "execution_count": null,
   "metadata": {
    "scrolled": true
   },
   "outputs": [],
   "source": [
    "# Dependencies and Setup\n",
    "import matplotlib.pyplot as plt\n",
    "import pandas as pd\n",
    "import numpy as np\n",
    "import requests\n",
    "import time\n",
    "from datetime import datetime as dt\n",
    "import pytz\n",
    "\n",
    "\n",
    "# Import API key\n",
    "from config import owm_api_key\n",
    "\n",
    "# Incorporated citipy to determine city based on latitude and longitude\n",
    "from citipy import citipy\n",
    "\n",
    "# Output File (CSV)\n",
    "output_data_file = \"output_data/cities.csv\"\n",
    "\n",
    "# Range of latitudes and longitudes\n",
    "lat_range = (-90, 90)\n",
    "lng_range = (-180, 180)"
   ]
  },
  {
   "cell_type": "markdown",
   "metadata": {},
   "source": [
    "## Generate Cities List"
   ]
  },
  {
   "cell_type": "code",
   "execution_count": null,
   "metadata": {},
   "outputs": [],
   "source": [
    "# List for holding lat_lngs and cities\n",
    "lat_lngs = []\n",
    "cities = []\n",
    "\n",
    "# Create a set of random lat and lng combinations\n",
    "lats = np.random.uniform(low=-90.000, high=90.000, size=1500)\n",
    "lngs = np.random.uniform(low=-180.000, high=180.000, size=1500)\n",
    "lat_lngs = zip(lats, lngs)\n",
    "\n",
    "# Identify nearest city for each lat, lng combination\n",
    "for lat_lng in lat_lngs:\n",
    "    city = citipy.nearest_city(lat_lng[0], lat_lng[1]).city_name\n",
    "    \n",
    "    # Replace spaces with %20 to create url correctly \n",
    "    city = city.replace(\" \", \"%20\")\n",
    "    \n",
    "    # If the city is unique, then add it to a our cities list\n",
    "    if city not in cities:\n",
    "        cities.append(city)\n",
    "\n",
    "# Print the city count to confirm sufficient count\n",
    "len(cities)\n",
    "\n"
   ]
  },
  {
   "cell_type": "markdown",
   "metadata": {},
   "source": [
    "### Perform API Calls\n",
    "* Perform a weather check on each city using a series of successive API calls.\n",
    "* Include a print log of each city as it'sbeing processed (with the city number and city name).\n"
   ]
  },
  {
   "cell_type": "code",
   "execution_count": null,
   "metadata": {},
   "outputs": [],
   "source": [
    "# Create empty lists to append the API data into lists \n",
    "city_name = []\n",
    "cloudiness = []\n",
    "country = []\n",
    "date = []\n",
    "humidity = []\n",
    "lat = []\n",
    "lng = []\n",
    "max_temp = []\n",
    "wind_speed = []\n",
    "\n",
    "# URL for Weather Map API Call\n",
    "url = \"http://api.openweathermap.org/data/2.5/weather?units=Imperial&APPID=\" + owm_api_key\n",
    "\n",
    "# Set & Start the API call iteration counter for FOR LOOP\n",
    "counter = 1\n",
    "api_calls = 51\n",
    "sets=1\n",
    "\n",
    "# Print log of each city as it's being processed (with the city number and city name).\n",
    "print(f\"Beginning Data Retrieval\")\n",
    "print(f\"-------------------------------\")\n",
    "\n",
    "#Loop through the cities in the city list \n",
    "for city in cities:  \n",
    "    if counter == api_calls:\n",
    "        time.sleep(10)\n",
    "        sets += 1#                                                               \n",
    "                                            \n",
    "        counter = 0  \n",
    "        api_calls = 50\n",
    "    # Try statement for exception handling\n",
    "    try: \n",
    "        response = requests.get(f\"{url}&q={city}\").json() \n",
    "        city_name.append(response[\"name\"])\n",
    "        cloudiness.append(response[\"clouds\"][\"all\"])\n",
    "        country.append(response[\"sys\"][\"country\"])\n",
    "        date.append(response[\"dt\"])\n",
    "        humidity.append(response[\"main\"][\"humidity\"])\n",
    "        max_temp.append(response[\"main\"][\"temp_max\"])\n",
    "        lat.append(response[\"coord\"][\"lat\"])\n",
    "        lng.append(response[\"coord\"][\"lon\"])\n",
    "        wind_speed.append(response[\"wind\"][\"speed\"])\n",
    "        city_record = response[\"name\"]\n",
    "        print(f\"Processing Record {counter} of Set {sets} | {city_record}\")\n",
    "        \n",
    "        # Increase counter by one \n",
    "        counter= counter+ 1\n",
    "        # Wait a second in loop to not over exceed rate limit of API\n",
    "        time.sleep(1.01)\n",
    "        \n",
    "    # If no record found \"skip\" to next call as OpenWeatherMap will not have have records in all the cities generated by CityPy module\n",
    "    except:\n",
    "        print(\"City not found. Skipping...\")\n",
    "    continue\n",
    "print(f\"-------------------------------\")\n",
    "print(f\"Data Retrieval Complete\")\n",
    "print(f\"-------------------------------\")\n"
   ]
  },
  {
   "cell_type": "markdown",
   "metadata": {},
   "source": [
    "### Convert Raw Data to DataFrame\n",
    "* Export the city data into a .csv.\n",
    "* Display the DataFrame"
   ]
  },
  {
   "cell_type": "code",
   "execution_count": null,
   "metadata": {},
   "outputs": [],
   "source": [
    "# Create a dictonary with the lists \n",
    "weatherpy_dict = {\n",
    "    \"City\": city_name,\n",
    "    \"Cloudiness(%)\":cloudiness, \n",
    "    \"Country\":country,\n",
    "    \"Date\":date,\n",
    "    \"Humidity(%)\":humidity,\n",
    "    \"Lat\":lat, \n",
    "    \"Lng\":lng, \n",
    "    \"Max Temp(°F)\": max_temp,\n",
    "    \"Wind Speed(mph)\":wind_speed\n",
    "}\n",
    "\n",
    "# Create a data frame from the dictionary\n",
    "weatherpy_data = pd.DataFrame(weatherpy_dict)\n",
    "\n",
    "# Display count of weather data values \n",
    "weatherpy_data.count()\n"
   ]
  },
  {
   "cell_type": "code",
   "execution_count": null,
   "metadata": {},
   "outputs": [],
   "source": [
    "# Save data frame to CSV\n",
    "weatherpy_data.to_csv(output_data_file)\n",
    "\n",
    "# Display data frame head \n",
    "weatherpy_data.head()"
   ]
  },
  {
   "cell_type": "code",
   "execution_count": null,
   "metadata": {},
   "outputs": [],
   "source": [
    "# For testing conversion of Unix UTC to Datetime \n",
    "#weatherpy_data['Date'] = dt.utcfromtimestamp(1538272800)\n",
    "#weatherpy_data['Date'].head()"
   ]
  },
  {
   "cell_type": "code",
   "execution_count": null,
   "metadata": {},
   "outputs": [],
   "source": [
    "# Formatting the dataframe Date column into a more readable format\n",
    "weatherpy_data[\"City\"]=weatherpy_data[\"City\"]\n",
    "weatherpy_data[\"Cloudiness(%)\"]=weatherpy_data[\"Cloudiness(%)\"]\n",
    "weatherpy_data[\"Country\"]=weatherpy_data[\"Country\"]\n",
    "#weatherpy_data['Date'] = weatherpy_data['Date'].apply(lambda x:dt.strftime(pd.to_datetime(x),'%Y-%m-%d %H:%M:%S'))\n",
    "\n",
    "weatherpy_data['Date'] = pd.to_datetime(weatherpy_data['Date'],unit='s')#'%Y-%m-%d %H:%M:%S'))\n",
    "#df['date'] = df['date'].dt.tx_localize('utc').dt.tz_convert('US/Central')\n",
    "weatherpy_data[\"Humidity(%)\"]=weatherpy_data[\"Humidity(%)\"]\n",
    "weatherpy_data[\"Lat\"]=weatherpy_data[\"Lat\"]\n",
    "weatherpy_data[\"Lng\"]=weatherpy_data[\"Lng\"]\n",
    "weatherpy_data[\"Max Temp(°F)\"]=weatherpy_data[\"Max Temp(°F)\"]\n",
    "weatherpy_data[\"Wind Speed(mph)\"]=weatherpy_data[\"Wind Speed(mph)\"]\n",
    "weatherpy_data.head()"
   ]
  },
  {
   "cell_type": "markdown",
   "metadata": {},
   "source": [
    "### Plotting the Data\n",
    "* Use proper labeling of the plots using plot titles (including date of analysis) and axes labels.\n",
    "* Save the plotted figures as .pngs."
   ]
  },
  {
   "cell_type": "markdown",
   "metadata": {},
   "source": [
    "#### Latitude vs. Temperature Plot"
   ]
  },
  {
   "cell_type": "code",
   "execution_count": null,
   "metadata": {},
   "outputs": [],
   "source": [
    "################################## Latitude vs. Temperature Plot ####################################################\n",
    "\n",
    "# Set Date format for the title\n",
    "Date = dt.now().strftime(\"(%m/%d/%Y)\")\n",
    "\n",
    "# Build a scatter plot \n",
    "plt.figure(figsize=(6,4))\n",
    "plt.scatter(weatherpy_data[\"Lat\"], weatherpy_data[\"Max Temp(°F)\"], marker=\"o\",facecolors=\"steelblue\",edgecolors=\"black\")\n",
    "\n",
    "# Set other graph properties\n",
    "plt.title(\"City Latitude vs. Max Temperature \" +  str(Date),fontsize=13)\n",
    "plt.ylabel(\"Max Temperature (F)\",fontsize=12)\n",
    "plt.xlabel(\"Latitude\",fontsize=12)\n",
    "plt.yticks(np.arange(30, 120, 10))\n",
    "plt.xticks(np.arange(-60, 100, 20))\n",
    "plt.grid(linestyle='-', linewidth='0.5', color='darkgrey')\n",
    "\n",
    "\n",
    "# Save the figure\n",
    "plt.savefig(\"Latitude vs. Temperature Plot.png\")\n",
    "\n",
    "# Show plot\n",
    "plt.show()"
   ]
  },
  {
   "cell_type": "markdown",
   "metadata": {},
   "source": [
    "#### Latitude vs. Humidity Plot"
   ]
  },
  {
   "cell_type": "code",
   "execution_count": null,
   "metadata": {},
   "outputs": [],
   "source": [
    "##################################### Latitude vs. Humidity Plot ###################################################\n",
    "\n",
    "# Set Date format for the title\n",
    "Date = dt.now().strftime(\"(%m/%d/%Y)\")\n",
    "\n",
    "# Build a scatter plot \n",
    "plt.figure(figsize=(6,4))\n",
    "plt.scatter(weatherpy_data[\"Lat\"], weatherpy_data[\"Humidity(%)\"], marker=\"o\",facecolors=\"steelblue\",edgecolors=\"black\")\n",
    "\n",
    "# Setting other graph properties\n",
    "plt.title(\"City Latitude vs. Humidity \" +  str(Date),fontsize=13)\n",
    "plt.ylabel(\"Humidity (%)\",fontsize=12)\n",
    "plt.xlabel(\"Latitude\",fontsize=12)\n",
    "plt.yticks(np.arange(20, 110, 20))\n",
    "plt.xticks(np.arange(-60, 100, 20))\n",
    "plt.grid(linestyle='-', linewidth='0.5', color='darkgrey')\n",
    "\n",
    "\n",
    "# Save the figure\n",
    "plt.savefig(\"Latitude vs. Humidity Plot.png\")\n",
    "\n",
    "# Show plot\n",
    "plt.show()"
   ]
  },
  {
   "cell_type": "markdown",
   "metadata": {},
   "source": [
    "#### Latitude vs. Cloudiness Plot"
   ]
  },
  {
   "cell_type": "code",
   "execution_count": null,
   "metadata": {},
   "outputs": [],
   "source": [
    "##################################### Latitude vs. Cloudiness Plot ###################################################\n",
    "\n",
    "# Set Date format for the title\n",
    "Date = dt.now().strftime(\"(%m/%d/%Y)\")\n",
    "\n",
    "# Build a scatter plot \n",
    "plt.figure(figsize=(6,4))\n",
    "plt.scatter(weatherpy_data[\"Lat\"], weatherpy_data[\"Cloudiness(%)\"], marker=\"o\",facecolors=\"steelblue\",edgecolors=\"black\")\n",
    "\n",
    "# Setting other graph properties\n",
    "plt.title(\"City Latitude vs. Cloudiness \" +  str(Date),fontsize=13)\n",
    "plt.ylabel(\"Cloudiness (%)\",fontsize=12)\n",
    "plt.xlabel(\"Latitude\",fontsize=12)\n",
    "plt.yticks(np.arange(0, 110, 20))\n",
    "plt.xticks(np.arange(-60, 100, 20))\n",
    "plt.grid(linestyle='-', linewidth='0.5', color='darkgrey')\n",
    "\n",
    "# Save the figure\n",
    "plt.savefig(\"Latitude vs. Cloudiness Plot.png\")\n",
    "\n",
    "# Show plot\n",
    "plt.show()"
   ]
  },
  {
   "cell_type": "markdown",
   "metadata": {},
   "source": [
    "#### Latitude vs. Wind Speed Plot"
   ]
  },
  {
   "cell_type": "code",
   "execution_count": null,
   "metadata": {},
   "outputs": [],
   "source": [
    "##################################### Latitude vs. Wind Speed Plot ###################################################\n",
    "\n",
    "# Set Date format for the title\n",
    "Date = dt.now().strftime(\"(%m/%d/%Y)\")\n",
    "\n",
    "# Build a scatter plot \n",
    "plt.figure(figsize=(6,4))\n",
    "plt.scatter(weatherpy_data[\"Lat\"], weatherpy_data[\"Wind Speed(mph)\"], marker=\"o\",facecolors=\"steelblue\",edgecolors=\"black\")\n",
    "\n",
    "# Set other graph properties\n",
    "plt.title(\"City Latitude vs. Wind Speed \" +  str(Date),fontsize=13)\n",
    "plt.ylabel(\"Wind Speed (mph)\",fontsize=12)\n",
    "plt.xlabel(\"Latitude\",fontsize=12)\n",
    "plt.yticks(np.arange(0, 40, 5))\n",
    "plt.xticks(np.arange(-60, 100, 20))\n",
    "plt.grid(linestyle='-', linewidth='0.5', color='darkgrey')\n",
    "\n",
    "# Save the figure\n",
    "plt.savefig(\"Latitude vs. Wind Speed Plot.png\")\n",
    "\n",
    "# Show plot\n",
    "plt.show()"
   ]
  },
  {
   "cell_type": "code",
   "execution_count": null,
   "metadata": {},
   "outputs": [],
   "source": []
  }
 ],
 "metadata": {
  "anaconda-cloud": {},
  "kernelspec": {
   "display_name": "Python 3",
   "language": "python",
   "name": "python3"
  },
  "language_info": {
   "codemirror_mode": {
    "name": "ipython",
    "version": 3
   },
   "file_extension": ".py",
   "mimetype": "text/x-python",
   "name": "python",
   "nbconvert_exporter": "python",
   "pygments_lexer": "ipython3",
   "version": "3.6.5"
  }
 },
 "nbformat": 4,
 "nbformat_minor": 2
}
